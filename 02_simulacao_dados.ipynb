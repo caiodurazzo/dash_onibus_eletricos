{
 "cells": [
  {
   "cell_type": "markdown",
   "id": "b99ab01a",
   "metadata": {},
   "source": [
    "## Simulação dos dados"
   ]
  },
  {
   "cell_type": "markdown",
   "id": "127dc4bb",
   "metadata": {},
   "source": [
    "Nesse notebook são simulados os dados do projeto"
   ]
  },
  {
   "cell_type": "code",
   "execution_count": 1,
   "id": "c2a7d608",
   "metadata": {},
   "outputs": [],
   "source": [
    "import pandas as pd\n",
    "import numpy as np\n",
    "from datetime import datetime, timedelta\n",
    "import random\n",
    "from utils.save_csv import save_csv"
   ]
  },
  {
   "cell_type": "markdown",
   "id": "8474a9db",
   "metadata": {},
   "source": [
    "1. Tabela de consumo de diesel (l/km e kg/km)"
   ]
  },
  {
   "cell_type": "code",
   "execution_count": 2,
   "id": "8dbe1d68",
   "metadata": {},
   "outputs": [],
   "source": [
    "consumo_diesel = pd.DataFrame({\"tecnologia\": [\"Miniônibus\", \n",
    "                                              \"Midiônibus\", \n",
    "                                              \"Básico\", \n",
    "                                              \"Padron\",\n",
    "                                              \"Articulado (18m)\", \n",
    "                                              \"Articulado (23m)\", \n",
    "                                              \"Biarticulado\"],\n",
    "    \"sem_ar_l_km\": [0.300, 0.400, 0.460, 0.550, 0.710, 0.750, 0.800],\n",
    "    \"sem_ar_kg_km\": [0.252, 0.336, 0.386, 0.462, 0.596, 0.630, 0.672],\n",
    "    \"com_ar_l_km\": [0.350, 0.470, 0.530, 0.630, 0.800, 0.850, 0.900],\n",
    "    \"com_ar_kg_km\": [0.294, 0.395, 0.445, 0.529, 0.672, 0.714, 0.756]})"
   ]
  },
  {
   "cell_type": "markdown",
   "id": "ca4b67c5",
   "metadata": {},
   "source": [
    "2. Simulação de veículos"
   ]
  },
  {
   "cell_type": "code",
   "execution_count": 3,
   "id": "c96683f3",
   "metadata": {},
   "outputs": [],
   "source": [
    "np.random.seed(42)\n",
    "qtd_onibus = 6\n",
    "tipos = consumo_diesel[\"tecnologia\"].tolist()\n",
    "\n",
    "tipo_veiculo_list = [random.choice([\"diesel\", \"eletrico\"]) for _ in range(qtd_onibus)]\n",
    "\n",
    "veiculos = pd.DataFrame({\"id_veiculo\": np.arange(1001, 1001+qtd_onibus),\n",
    "                         \"tipo_veiculo\": tipo_veiculo_list,\n",
    "                         \"modelo\": [random.choice(tipos) for _ in range(qtd_onibus)],\n",
    "                         \"eletrico\": [t == \"eletrico\" for t in tipo_veiculo_list]})"
   ]
  },
  {
   "cell_type": "markdown",
   "id": "83aa429c",
   "metadata": {},
   "source": [
    "3. Simulação de posições"
   ]
  },
  {
   "cell_type": "code",
   "execution_count": 4,
   "id": "d7c9494d",
   "metadata": {},
   "outputs": [],
   "source": [
    "def random_coord():\n",
    "    x = -46.6 + random.uniform(-0.05, 0.05)\n",
    "    y = -23.55 + random.uniform(-0.05, 0.05)\n",
    "    return x, y\n",
    "\n",
    "posicoes = []\n",
    "agora = datetime.now()\n",
    "for vid in veiculos[\"id_veiculo\"]:\n",
    "    x, y = random_coord()\n",
    "    for i in range(6):\n",
    "        x+=0.002\n",
    "        y+=0.002\n",
    "        agora = agora + timedelta(minutes = 1)\n",
    "        t = agora\n",
    "        posicoes.append([vid, x, y, t.isoformat()])\n",
    "\n",
    "posicoes_df = pd.DataFrame(posicoes, columns = [\"id_onibus\", \"x\", \"y\", \"t\"])"
   ]
  },
  {
   "cell_type": "markdown",
   "id": "d221ef33",
   "metadata": {},
   "source": [
    "Exibir e salvar"
   ]
  },
  {
   "cell_type": "code",
   "execution_count": 5,
   "id": "eed18415",
   "metadata": {},
   "outputs": [
    {
     "name": "stdout",
     "output_type": "stream",
     "text": [
      "\n",
      "Tabela de Consumo de Diesel:\n",
      "         tecnologia  sem_ar_l_km  sem_ar_kg_km  com_ar_l_km  com_ar_kg_km\n",
      "0        Miniônibus         0.30         0.252         0.35         0.294\n",
      "1        Midiônibus         0.40         0.336         0.47         0.395\n",
      "2            Básico         0.46         0.386         0.53         0.445\n",
      "3            Padron         0.55         0.462         0.63         0.529\n",
      "4  Articulado (18m)         0.71         0.596         0.80         0.672\n",
      "5  Articulado (23m)         0.75         0.630         0.85         0.714\n",
      "6      Biarticulado         0.80         0.672         0.90         0.756\n",
      "Base salva em data\\consumo_diesel.csv\n"
     ]
    }
   ],
   "source": [
    "print(\"\\nTabela de Consumo de Diesel:\")\n",
    "print(consumo_diesel)\n",
    "\n",
    "save_csv(consumo_diesel, \"consumo_diesel.csv\")"
   ]
  },
  {
   "cell_type": "code",
   "execution_count": 6,
   "id": "4485b56b",
   "metadata": {},
   "outputs": [
    {
     "name": "stdout",
     "output_type": "stream",
     "text": [
      "\n",
      "Simulação de Veículos:\n",
      "   id_veiculo tipo_veiculo            modelo  eletrico\n",
      "0        1001     eletrico        Miniônibus      True\n",
      "1        1002     eletrico        Midiônibus      True\n",
      "2        1003       diesel  Articulado (18m)     False\n",
      "3        1004       diesel        Miniônibus     False\n",
      "4        1005       diesel        Miniônibus     False\n",
      "5        1006       diesel  Articulado (23m)     False\n",
      "Base salva em data\\veiculos.csv\n"
     ]
    }
   ],
   "source": [
    "print(\"\\nSimulação de Veículos:\")\n",
    "print(veiculos)\n",
    "\n",
    "save_csv(veiculos, \"veiculos.csv\")"
   ]
  },
  {
   "cell_type": "code",
   "execution_count": 7,
   "id": "b78df484",
   "metadata": {},
   "outputs": [
    {
     "name": "stdout",
     "output_type": "stream",
     "text": [
      "\n",
      "Posições de Ônibus:\n",
      "    id_onibus          x          y                           t\n",
      "0        1001 -46.612118 -23.526716  2025-08-19T07:31:49.736992\n",
      "1        1001 -46.610118 -23.524716  2025-08-19T07:32:49.736992\n",
      "2        1001 -46.608118 -23.522716  2025-08-19T07:33:49.736992\n",
      "3        1001 -46.606118 -23.520716  2025-08-19T07:34:49.736992\n",
      "4        1001 -46.604118 -23.518716  2025-08-19T07:35:49.736992\n",
      "5        1001 -46.602118 -23.516716  2025-08-19T07:36:49.736992\n",
      "6        1002 -46.610479 -23.499041  2025-08-19T07:37:49.736992\n",
      "7        1002 -46.608479 -23.497041  2025-08-19T07:38:49.736992\n",
      "8        1002 -46.606479 -23.495041  2025-08-19T07:39:49.736992\n",
      "9        1002 -46.604479 -23.493041  2025-08-19T07:40:49.736992\n",
      "10       1002 -46.602479 -23.491041  2025-08-19T07:41:49.736992\n",
      "11       1002 -46.600479 -23.489041  2025-08-19T07:42:49.736992\n",
      "12       1003 -46.624783 -23.508230  2025-08-19T07:43:49.736992\n",
      "13       1003 -46.622783 -23.506230  2025-08-19T07:44:49.736992\n",
      "14       1003 -46.620783 -23.504230  2025-08-19T07:45:49.736992\n",
      "15       1003 -46.618783 -23.502230  2025-08-19T07:46:49.736992\n",
      "16       1003 -46.616783 -23.500230  2025-08-19T07:47:49.736992\n",
      "17       1003 -46.614783 -23.498230  2025-08-19T07:48:49.736992\n",
      "18       1004 -46.645717 -23.525930  2025-08-19T07:49:49.736992\n",
      "19       1004 -46.643717 -23.523930  2025-08-19T07:50:49.736992\n",
      "20       1004 -46.641717 -23.521930  2025-08-19T07:51:49.736992\n",
      "21       1004 -46.639717 -23.519930  2025-08-19T07:52:49.736992\n",
      "22       1004 -46.637717 -23.517930  2025-08-19T07:53:49.736992\n",
      "23       1004 -46.635717 -23.515930  2025-08-19T07:54:49.736992\n",
      "24       1005 -46.613076 -23.534917  2025-08-19T07:55:49.736992\n",
      "25       1005 -46.611076 -23.532917  2025-08-19T07:56:49.736992\n",
      "26       1005 -46.609076 -23.530917  2025-08-19T07:57:49.736992\n",
      "27       1005 -46.607076 -23.528917  2025-08-19T07:58:49.736992\n",
      "28       1005 -46.605076 -23.526917  2025-08-19T07:59:49.736992\n",
      "29       1005 -46.603076 -23.524917  2025-08-19T08:00:49.736992\n",
      "30       1006 -46.574061 -23.545292  2025-08-19T08:01:49.736992\n",
      "31       1006 -46.572061 -23.543292  2025-08-19T08:02:49.736992\n",
      "32       1006 -46.570061 -23.541292  2025-08-19T08:03:49.736992\n",
      "33       1006 -46.568061 -23.539292  2025-08-19T08:04:49.736992\n",
      "34       1006 -46.566061 -23.537292  2025-08-19T08:05:49.736992\n",
      "35       1006 -46.564061 -23.535292  2025-08-19T08:06:49.736992\n",
      "Base salva em data\\posicoes_onibus.csv\n"
     ]
    }
   ],
   "source": [
    "print(\"\\nPosições de Ônibus:\")\n",
    "print(posicoes_df)\n",
    "\n",
    "save_csv(posicoes_df, \"posicoes_onibus.csv\")"
   ]
  }
 ],
 "metadata": {
  "kernelspec": {
   "display_name": "venv (3.12.0)",
   "language": "python",
   "name": "python3"
  },
  "language_info": {
   "codemirror_mode": {
    "name": "ipython",
    "version": 3
   },
   "file_extension": ".py",
   "mimetype": "text/x-python",
   "name": "python",
   "nbconvert_exporter": "python",
   "pygments_lexer": "ipython3",
   "version": "3.12.0"
  }
 },
 "nbformat": 4,
 "nbformat_minor": 5
}
