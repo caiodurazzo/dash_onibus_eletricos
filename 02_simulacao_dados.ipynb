{
 "cells": [
  {
   "cell_type": "markdown",
   "id": "b99ab01a",
   "metadata": {},
   "source": [
    "## Simulação dos dados"
   ]
  },
  {
   "cell_type": "markdown",
   "id": "127dc4bb",
   "metadata": {},
   "source": [
    "Nesse notebook são simulados os dados do projeto"
   ]
  },
  {
   "cell_type": "code",
   "execution_count": 1,
   "id": "c2a7d608",
   "metadata": {},
   "outputs": [],
   "source": [
    "import pandas as pd\n",
    "import numpy as np\n",
    "from datetime import datetime, timedelta\n",
    "import random\n",
    "from utils.save_csv import save_csv"
   ]
  },
  {
   "cell_type": "markdown",
   "id": "8474a9db",
   "metadata": {},
   "source": [
    "1. Tabela de consumo de diesel (l/km e kg/km)"
   ]
  },
  {
   "cell_type": "code",
   "execution_count": 2,
   "id": "8dbe1d68",
   "metadata": {},
   "outputs": [],
   "source": [
    "consumo_diesel = pd.DataFrame({\"tecnologia\": [\"Miniônibus\", \n",
    "                                              \"Midiônibus\", \n",
    "                                              \"Básico\", \n",
    "                                              \"Padron\",\n",
    "                                              \"Articulado (18m)\", \n",
    "                                              \"Articulado (23m)\", \n",
    "                                              \"Biarticulado\"],\n",
    "    \"sem_ar_l_km\": [0.300, 0.400, 0.460, 0.550, 0.710, 0.750, 0.800],\n",
    "    \"sem_ar_kg_km\": [0.252, 0.336, 0.386, 0.462, 0.596, 0.630, 0.672],\n",
    "    \"com_ar_l_km\": [0.350, 0.470, 0.530, 0.630, 0.800, 0.850, 0.900],\n",
    "    \"com_ar_kg_km\": [0.294, 0.395, 0.445, 0.529, 0.672, 0.714, 0.756]})"
   ]
  },
  {
   "cell_type": "markdown",
   "id": "ca4b67c5",
   "metadata": {},
   "source": [
    "2. Simulação de veículos"
   ]
  },
  {
   "cell_type": "code",
   "execution_count": 3,
   "id": "c96683f3",
   "metadata": {},
   "outputs": [],
   "source": [
    "np.random.seed(42)\n",
    "qtd_onibus = 6\n",
    "tipos = consumo_diesel[\"tecnologia\"].tolist()\n",
    "\n",
    "tipo_veiculo_list = [random.choice([\"diesel\", \"eletrico\"]) for _ in range(qtd_onibus)]\n",
    "\n",
    "veiculos = pd.DataFrame({\"id_veiculo\": np.arange(1001, 1001+qtd_onibus),\n",
    "                         \"tipo_veiculo\": tipo_veiculo_list,\n",
    "                         \"modelo\": [random.choice(tipos) for _ in range(qtd_onibus)],\n",
    "                         \"eletrico\": [t == \"eletrico\" for t in tipo_veiculo_list]})"
   ]
  },
  {
   "cell_type": "markdown",
   "id": "83aa429c",
   "metadata": {},
   "source": [
    "3. Simulação de posições"
   ]
  },
  {
   "cell_type": "code",
   "execution_count": 4,
   "id": "d7c9494d",
   "metadata": {},
   "outputs": [],
   "source": [
    "def random_coord():\n",
    "    x = -46.6 + random.uniform(-0.05, 0.05)\n",
    "    y = -23.55 + random.uniform(-0.05, 0.05)\n",
    "    return x, y\n",
    "\n",
    "posicoes = []\n",
    "agora = datetime.now()\n",
    "for vid in veiculos[\"id_veiculo\"]:\n",
    "    x, y = random_coord()\n",
    "    for i in range(6):\n",
    "        x+=0.002\n",
    "        y+=0.002\n",
    "        agora = agora + timedelta(minutes = 1)\n",
    "        t = agora\n",
    "        posicoes.append([vid, x, y, t.isoformat()])\n",
    "\n",
    "posicoes_df = pd.DataFrame(posicoes, columns = [\"id_onibus\", \"x\", \"y\", \"t\"])"
   ]
  },
  {
   "cell_type": "markdown",
   "id": "d221ef33",
   "metadata": {},
   "source": [
    "Exibir e salvar"
   ]
  },
  {
   "cell_type": "code",
   "execution_count": 5,
   "id": "eed18415",
   "metadata": {},
   "outputs": [
    {
     "name": "stdout",
     "output_type": "stream",
     "text": [
      "\n",
      "Tabela de Consumo de Diesel:\n",
      "         tecnologia  sem_ar_l_km  sem_ar_kg_km  com_ar_l_km  com_ar_kg_km\n",
      "0        Miniônibus         0.30         0.252         0.35         0.294\n",
      "1        Midiônibus         0.40         0.336         0.47         0.395\n",
      "2            Básico         0.46         0.386         0.53         0.445\n",
      "3            Padron         0.55         0.462         0.63         0.529\n",
      "4  Articulado (18m)         0.71         0.596         0.80         0.672\n",
      "5  Articulado (23m)         0.75         0.630         0.85         0.714\n",
      "6      Biarticulado         0.80         0.672         0.90         0.756\n",
      "Base salva em data\\consumo_diesel.csv\n"
     ]
    }
   ],
   "source": [
    "print(\"\\nTabela de Consumo de Diesel:\")\n",
    "print(consumo_diesel)\n",
    "\n",
    "save_csv(consumo_diesel, \"consumo_diesel.csv\")"
   ]
  },
  {
   "cell_type": "code",
   "execution_count": 6,
   "id": "4485b56b",
   "metadata": {},
   "outputs": [
    {
     "name": "stdout",
     "output_type": "stream",
     "text": [
      "\n",
      "Simulação de Veículos:\n",
      "   id_veiculo tipo_veiculo            modelo  eletrico\n",
      "0        1001     eletrico  Articulado (23m)      True\n",
      "1        1002       diesel  Articulado (23m)     False\n",
      "2        1003       diesel      Biarticulado     False\n",
      "3        1004     eletrico            Padron      True\n",
      "4        1005       diesel  Articulado (18m)     False\n",
      "5        1006     eletrico        Miniônibus      True\n",
      "Base salva em data\\veiculos.csv\n"
     ]
    }
   ],
   "source": [
    "print(\"\\nSimulação de Veículos:\")\n",
    "print(veiculos)\n",
    "\n",
    "save_csv(veiculos, \"veiculos.csv\")"
   ]
  },
  {
   "cell_type": "code",
   "execution_count": 7,
   "id": "b78df484",
   "metadata": {},
   "outputs": [
    {
     "name": "stdout",
     "output_type": "stream",
     "text": [
      "\n",
      "Posições de Ônibus:\n",
      "    id_onibus          x          y                           t\n",
      "0        1001 -46.569928 -23.572556  2025-08-15T11:28:46.255920\n",
      "1        1001 -46.567928 -23.570556  2025-08-15T11:29:46.255920\n",
      "2        1001 -46.565928 -23.568556  2025-08-15T11:30:46.255920\n",
      "3        1001 -46.563928 -23.566556  2025-08-15T11:31:46.255920\n",
      "4        1001 -46.561928 -23.564556  2025-08-15T11:32:46.255920\n",
      "5        1001 -46.559928 -23.562556  2025-08-15T11:33:46.255920\n",
      "6        1002 -46.611590 -23.518567  2025-08-15T11:34:46.255920\n",
      "7        1002 -46.609590 -23.516567  2025-08-15T11:35:46.255920\n",
      "8        1002 -46.607590 -23.514567  2025-08-15T11:36:46.255920\n",
      "9        1002 -46.605590 -23.512567  2025-08-15T11:37:46.255920\n",
      "10       1002 -46.603590 -23.510567  2025-08-15T11:38:46.255920\n",
      "11       1002 -46.601590 -23.508567  2025-08-15T11:39:46.255920\n",
      "12       1003 -46.548003 -23.577125  2025-08-15T11:40:46.255920\n",
      "13       1003 -46.546003 -23.575125  2025-08-15T11:41:46.255920\n",
      "14       1003 -46.544003 -23.573125  2025-08-15T11:42:46.255920\n",
      "15       1003 -46.542003 -23.571125  2025-08-15T11:43:46.255920\n",
      "16       1003 -46.540003 -23.569125  2025-08-15T11:44:46.255920\n",
      "17       1003 -46.538003 -23.567125  2025-08-15T11:45:46.255920\n",
      "18       1004 -46.623591 -23.565945  2025-08-15T11:46:46.255920\n",
      "19       1004 -46.621591 -23.563945  2025-08-15T11:47:46.255920\n",
      "20       1004 -46.619591 -23.561945  2025-08-15T11:48:46.255920\n",
      "21       1004 -46.617591 -23.559945  2025-08-15T11:49:46.255920\n",
      "22       1004 -46.615591 -23.557945  2025-08-15T11:50:46.255920\n",
      "23       1004 -46.613591 -23.555945  2025-08-15T11:51:46.255920\n",
      "24       1005 -46.625008 -23.569467  2025-08-15T11:52:46.255920\n",
      "25       1005 -46.623008 -23.567467  2025-08-15T11:53:46.255920\n",
      "26       1005 -46.621008 -23.565467  2025-08-15T11:54:46.255920\n",
      "27       1005 -46.619008 -23.563467  2025-08-15T11:55:46.255920\n",
      "28       1005 -46.617008 -23.561467  2025-08-15T11:56:46.255920\n",
      "29       1005 -46.615008 -23.559467  2025-08-15T11:57:46.255920\n",
      "30       1006 -46.617793 -23.540189  2025-08-15T11:58:46.255920\n",
      "31       1006 -46.615793 -23.538189  2025-08-15T11:59:46.255920\n",
      "32       1006 -46.613793 -23.536189  2025-08-15T12:00:46.255920\n",
      "33       1006 -46.611793 -23.534189  2025-08-15T12:01:46.255920\n",
      "34       1006 -46.609793 -23.532189  2025-08-15T12:02:46.255920\n",
      "35       1006 -46.607793 -23.530189  2025-08-15T12:03:46.255920\n",
      "Base salva em data\\posicoes_onibus.csv\n"
     ]
    }
   ],
   "source": [
    "print(\"\\nPosições de Ônibus:\")\n",
    "print(posicoes_df)\n",
    "\n",
    "save_csv(posicoes_df, \"posicoes_onibus.csv\")"
   ]
  }
 ],
 "metadata": {
  "kernelspec": {
   "display_name": "venv",
   "language": "python",
   "name": "python3"
  },
  "language_info": {
   "codemirror_mode": {
    "name": "ipython",
    "version": 3
   },
   "file_extension": ".py",
   "mimetype": "text/x-python",
   "name": "python",
   "nbconvert_exporter": "python",
   "pygments_lexer": "ipython3",
   "version": "3.12.4"
  }
 },
 "nbformat": 4,
 "nbformat_minor": 5
}
