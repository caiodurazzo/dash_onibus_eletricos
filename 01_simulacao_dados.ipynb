{
 "cells": [
  {
   "cell_type": "markdown",
   "id": "b99ab01a",
   "metadata": {},
   "source": [
    "## Simulação dos dados"
   ]
  },
  {
   "cell_type": "markdown",
   "id": "127dc4bb",
   "metadata": {},
   "source": [
    "Nesse notebook são simulados os dados do projeto"
   ]
  },
  {
   "cell_type": "code",
   "execution_count": 1,
   "id": "c2a7d608",
   "metadata": {},
   "outputs": [],
   "source": [
    "import pandas as pd\n",
    "import numpy as np\n",
    "from datetime import datetime, timedelta\n",
    "import random\n",
    "from utils.save_csv import save_csv"
   ]
  },
  {
   "cell_type": "markdown",
   "id": "8474a9db",
   "metadata": {},
   "source": [
    "1. Tabela de consumo de diesel (l/km e kg/km)"
   ]
  },
  {
   "cell_type": "code",
   "execution_count": 2,
   "id": "8dbe1d68",
   "metadata": {},
   "outputs": [],
   "source": [
    "consumo_diesel = pd.DataFrame({\"tecnologia\": [\"Miniônibus\", \n",
    "                                              \"Midiônibus\", \n",
    "                                              \"Básico\", \n",
    "                                              \"Padron\",\n",
    "                                              \"Articulado (18m)\", \n",
    "                                              \"Articulado (23m)\", \n",
    "                                              \"Biarticulado\"],\n",
    "    \"sem_ar_l_km\": [0.300, 0.400, 0.460, 0.550, 0.710, 0.750, 0.800],\n",
    "    \"sem_ar_kg_km\": [0.252, 0.336, 0.386, 0.462, 0.596, 0.630, 0.672],\n",
    "    \"com_ar_l_km\": [0.350, 0.470, 0.530, 0.630, 0.800, 0.850, 0.900],\n",
    "    \"com_ar_kg_km\": [0.294, 0.395, 0.445, 0.529, 0.672, 0.714, 0.756]})"
   ]
  },
  {
   "cell_type": "markdown",
   "id": "e2286b21",
   "metadata": {},
   "source": [
    "2. Fatores de emissão (kg poluente / kg diesel)"
   ]
  },
  {
   "cell_type": "code",
   "execution_count": 3,
   "id": "21ff8eba",
   "metadata": {},
   "outputs": [],
   "source": [
    "fatores_emissao = pd.DataFrame({\"fase\": [\"CONAMA P5 (EURO III)\", \"CONAMA P7 (EURO V)\", \"CONAMA P8 (EURO VI)\"],\n",
    "                                \"NOx\": [0.020982, 0.006575, 0.001112],\n",
    "                                \"MP\": [0.000388, 0.000055, 0.000026]})"
   ]
  },
  {
   "cell_type": "markdown",
   "id": "ca4b67c5",
   "metadata": {},
   "source": [
    "3. Simulação de veículos"
   ]
  },
  {
   "cell_type": "code",
   "execution_count": 4,
   "id": "c96683f3",
   "metadata": {},
   "outputs": [],
   "source": [
    "np.random.seed(42)\n",
    "\n",
    "tipos = consumo_diesel[\"tecnologia\"].tolist()\n",
    "\n",
    "fases = fatores_emissao[\"fase\"].tolist()\n",
    "\n",
    "tipo_veiculo_list = [random.choice([\"diesel\", \"eletrico\"]) for _ in range(6)]\n",
    "\n",
    "veiculos = pd.DataFrame({\"id_veiculo\": np.arange(1001, 1007),\n",
    "                         \"tipo_veiculo\": tipo_veiculo_list,\n",
    "                         \"modelo\": [random.choice(tipos) for _ in range(6)],\n",
    "                         \"fase_emissao\": [random.choice(fases) for _ in range(6)],\n",
    "                         \"eletrico\": [t == \"eletrico\" for t in tipo_veiculo_list]})"
   ]
  },
  {
   "cell_type": "markdown",
   "id": "83aa429c",
   "metadata": {},
   "source": [
    "4. Simulação de posições"
   ]
  },
  {
   "cell_type": "code",
   "execution_count": 5,
   "id": "d7c9494d",
   "metadata": {},
   "outputs": [],
   "source": [
    "def random_coord():\n",
    "    x = -46.6 + random.uniform(-0.05, 0.05)\n",
    "    y = -23.55 + random.uniform(-0.05, 0.05)\n",
    "    return x, y\n",
    "\n",
    "posicoes = []\n",
    "\n",
    "for vid in veiculos[\"id_veiculo\"]:\n",
    "    for i in range(6):\n",
    "        x, y = random_coord()\n",
    "        t = datetime.now() - timedelta(minutes = random.randint(0, 60))\n",
    "        posicoes.append([vid, x, y, t.isoformat()])\n",
    "\n",
    "posicoes_df = pd.DataFrame(posicoes, columns = [\"id_onibus\", \"x\", \"y\", \"t\"])"
   ]
  },
  {
   "cell_type": "markdown",
   "id": "d221ef33",
   "metadata": {},
   "source": [
    "Exibir e salvar"
   ]
  },
  {
   "cell_type": "code",
   "execution_count": 7,
   "id": "eed18415",
   "metadata": {},
   "outputs": [
    {
     "name": "stdout",
     "output_type": "stream",
     "text": [
      "\n",
      "Tabela de Consumo de Diesel:\n",
      "         tecnologia  sem_ar_l_km  sem_ar_kg_km  com_ar_l_km  com_ar_kg_km\n",
      "0        Miniônibus         0.30         0.252         0.35         0.294\n",
      "1        Midiônibus         0.40         0.336         0.47         0.395\n",
      "2            Básico         0.46         0.386         0.53         0.445\n",
      "3            Padron         0.55         0.462         0.63         0.529\n",
      "4  Articulado (18m)         0.71         0.596         0.80         0.672\n",
      "5  Articulado (23m)         0.75         0.630         0.85         0.714\n",
      "6      Biarticulado         0.80         0.672         0.90         0.756\n",
      "Base salva em data\\consumo_diesel.csv\n"
     ]
    }
   ],
   "source": [
    "print(\"\\nTabela de Consumo de Diesel:\")\n",
    "print(consumo_diesel)\n",
    "\n",
    "save_csv(consumo_diesel, \"consumo_diesel.csv\")"
   ]
  },
  {
   "cell_type": "code",
   "execution_count": 8,
   "id": "3c577153",
   "metadata": {},
   "outputs": [
    {
     "name": "stdout",
     "output_type": "stream",
     "text": [
      "\n",
      "Fatores de Emissão:\n",
      "                   fase       NOx        MP\n",
      "0  CONAMA P5 (EURO III)  0.020982  0.000388\n",
      "1    CONAMA P7 (EURO V)  0.006575  0.000055\n",
      "2   CONAMA P8 (EURO VI)  0.001112  0.000026\n",
      "Base salva em data\\fatores_emissao.csv\n"
     ]
    }
   ],
   "source": [
    "print(\"\\nFatores de Emissão:\")\n",
    "print(fatores_emissao)\n",
    "\n",
    "save_csv(fatores_emissao, \"fatores_emissao.csv\")"
   ]
  },
  {
   "cell_type": "code",
   "execution_count": 9,
   "id": "4485b56b",
   "metadata": {},
   "outputs": [
    {
     "name": "stdout",
     "output_type": "stream",
     "text": [
      "\n",
      "Cadastro de Veículos:\n",
      "   id_veiculo tipo_veiculo        modelo          fase_emissao  eletrico\n",
      "0        1001     eletrico    Midiônibus   CONAMA P8 (EURO VI)      True\n",
      "1        1002     eletrico        Básico   CONAMA P8 (EURO VI)      True\n",
      "2        1003     eletrico  Biarticulado  CONAMA P5 (EURO III)      True\n",
      "3        1004       diesel    Miniônibus   CONAMA P8 (EURO VI)     False\n",
      "4        1005       diesel  Biarticulado  CONAMA P5 (EURO III)     False\n",
      "5        1006       diesel        Padron    CONAMA P7 (EURO V)     False\n",
      "Base salva em data\\veiculos.csv\n"
     ]
    }
   ],
   "source": [
    "print(\"\\nCadastro de Veículos:\")\n",
    "print(veiculos)\n",
    "\n",
    "save_csv(veiculos, \"veiculos.csv\")"
   ]
  },
  {
   "cell_type": "code",
   "execution_count": 10,
   "id": "b78df484",
   "metadata": {},
   "outputs": [
    {
     "name": "stdout",
     "output_type": "stream",
     "text": [
      "\n",
      "Posições de Ônibus:\n",
      "    id_onibus          x          y                           t\n",
      "0        1001 -46.593663 -23.533672  2025-08-12T11:50:16.221522\n",
      "1        1001 -46.641060 -23.584118  2025-08-12T11:56:16.221522\n",
      "2        1001 -46.576640 -23.542121  2025-08-12T11:48:16.221522\n",
      "3        1001 -46.618357 -23.558502  2025-08-12T12:12:16.221522\n",
      "4        1001 -46.562794 -23.593987  2025-08-12T11:37:16.221522\n",
      "5        1001 -46.621116 -23.545900  2025-08-12T12:16:16.221522\n",
      "6        1002 -46.559276 -23.583382  2025-08-12T11:47:16.221522\n",
      "7        1002 -46.586475 -23.573175  2025-08-12T11:45:16.221522\n",
      "8        1002 -46.649795 -23.554290  2025-08-12T11:30:16.221522\n",
      "9        1002 -46.590845 -23.542472  2025-08-12T12:00:16.221522\n",
      "10       1002 -46.600637 -23.552710  2025-08-12T12:07:16.221522\n",
      "11       1002 -46.596224 -23.569492  2025-08-12T12:05:16.221522\n",
      "12       1003 -46.628023 -23.518070  2025-08-12T11:53:16.221522\n",
      "13       1003 -46.583945 -23.580066  2025-08-12T12:13:16.221522\n",
      "14       1003 -46.593709 -23.596362  2025-08-12T12:03:16.221522\n",
      "15       1003 -46.579117 -23.580757  2025-08-12T12:15:16.221522\n",
      "16       1003 -46.617477 -23.553017  2025-08-12T12:09:16.221522\n",
      "17       1003 -46.556794 -23.510827  2025-08-12T12:20:16.221522\n",
      "18       1004 -46.637225 -23.519561  2025-08-12T11:40:16.221522\n",
      "19       1004 -46.605175 -23.507419  2025-08-12T12:05:16.221522\n",
      "20       1004 -46.636566 -23.504506  2025-08-12T11:50:16.221522\n",
      "21       1004 -46.618768 -23.524039  2025-08-12T11:58:16.221522\n",
      "22       1004 -46.577750 -23.513130  2025-08-12T12:03:16.221522\n",
      "23       1004 -46.575945 -23.591433  2025-08-12T12:07:16.221522\n",
      "24       1005 -46.598173 -23.570776  2025-08-12T12:20:16.221522\n",
      "25       1005 -46.630124 -23.516135  2025-08-12T11:36:16.221522\n",
      "26       1005 -46.588582 -23.560407  2025-08-12T11:47:16.221522\n",
      "27       1005 -46.569855 -23.590875  2025-08-12T12:18:16.221522\n",
      "28       1005 -46.567819 -23.572444  2025-08-12T11:45:16.221522\n",
      "29       1005 -46.623384 -23.532446  2025-08-12T12:12:16.221522\n",
      "30       1006 -46.583278 -23.596869  2025-08-12T11:29:16.221522\n",
      "31       1006 -46.619768 -23.527652  2025-08-12T11:32:16.221522\n",
      "32       1006 -46.635002 -23.530522  2025-08-12T11:35:16.221522\n",
      "33       1006 -46.629577 -23.581612  2025-08-12T11:41:16.221522\n",
      "34       1006 -46.571687 -23.533523  2025-08-12T12:05:16.221522\n",
      "35       1006 -46.615371 -23.598699  2025-08-12T12:16:16.221522\n",
      "Base salva em data\\posicoes_onibus.csv\n"
     ]
    }
   ],
   "source": [
    "print(\"\\nPosições de Ônibus:\")\n",
    "print(posicoes_df)\n",
    "\n",
    "save_csv(posicoes_df, \"posicoes_onibus.csv\")"
   ]
  }
 ],
 "metadata": {
  "kernelspec": {
   "display_name": "venv (3.12.0)",
   "language": "python",
   "name": "python3"
  },
  "language_info": {
   "codemirror_mode": {
    "name": "ipython",
    "version": 3
   },
   "file_extension": ".py",
   "mimetype": "text/x-python",
   "name": "python",
   "nbconvert_exporter": "python",
   "pygments_lexer": "ipython3",
   "version": "3.12.0"
  }
 },
 "nbformat": 4,
 "nbformat_minor": 5
}
