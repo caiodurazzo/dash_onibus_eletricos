{
 "cells": [
  {
   "cell_type": "markdown",
   "id": "b99ab01a",
   "metadata": {},
   "source": [
    "## Simulação dos dados"
   ]
  },
  {
   "cell_type": "markdown",
   "id": "127dc4bb",
   "metadata": {},
   "source": [
    "Nesse notebook são simulados os dados do projeto"
   ]
  },
  {
   "cell_type": "code",
   "execution_count": 1,
   "id": "c2a7d608",
   "metadata": {},
   "outputs": [],
   "source": [
    "import pandas as pd\n",
    "import numpy as np\n",
    "from datetime import datetime, timedelta\n",
    "import random\n",
    "from utils.save_csv import save_csv"
   ]
  },
  {
   "cell_type": "markdown",
   "id": "8474a9db",
   "metadata": {},
   "source": [
    "1. Tabela de consumo de diesel (l/km e kg/km)"
   ]
  },
  {
   "cell_type": "code",
   "execution_count": 2,
   "id": "8dbe1d68",
   "metadata": {},
   "outputs": [],
   "source": [
    "consumo_diesel = pd.DataFrame({\"tecnologia\": [\"Miniônibus\", \n",
    "                                              \"Midiônibus\", \n",
    "                                              \"Básico\", \n",
    "                                              \"Padron\",\n",
    "                                              \"Articulado (18m)\", \n",
    "                                              \"Articulado (23m)\", \n",
    "                                              \"Biarticulado\"],\n",
    "    \"sem_ar_l_km\": [0.300, 0.400, 0.460, 0.550, 0.710, 0.750, 0.800],\n",
    "    \"sem_ar_kg_km\": [0.252, 0.336, 0.386, 0.462, 0.596, 0.630, 0.672],\n",
    "    \"com_ar_l_km\": [0.350, 0.470, 0.530, 0.630, 0.800, 0.850, 0.900],\n",
    "    \"com_ar_kg_km\": [0.294, 0.395, 0.445, 0.529, 0.672, 0.714, 0.756]})"
   ]
  },
  {
   "cell_type": "markdown",
   "id": "ca4b67c5",
   "metadata": {},
   "source": [
    "2. Simulação de veículos"
   ]
  },
  {
   "cell_type": "code",
   "execution_count": 3,
   "id": "c96683f3",
   "metadata": {},
   "outputs": [],
   "source": [
    "np.random.seed(42)\n",
    "qtd_onibus = 20\n",
    "tipos = consumo_diesel[\"tecnologia\"].tolist()\n",
    "\n",
    "tipo_veiculo_list = [random.choice([\"diesel\", \"eletrico\"]) for _ in range(qtd_onibus)]\n",
    "\n",
    "veiculos = pd.DataFrame({\"id_veiculo\": np.arange(1001, 1001+qtd_onibus),\n",
    "                         \"tipo_veiculo\": tipo_veiculo_list,\n",
    "                         \"modelo\": [random.choice(tipos) for _ in range(qtd_onibus)],\n",
    "                         \"eletrico\": [t == \"eletrico\" for t in tipo_veiculo_list]})"
   ]
  },
  {
   "cell_type": "markdown",
   "id": "83aa429c",
   "metadata": {},
   "source": [
    "3. Simulação de posições"
   ]
  },
  {
   "cell_type": "code",
   "execution_count": 4,
   "id": "d7c9494d",
   "metadata": {},
   "outputs": [],
   "source": [
    "def random_coord():\n",
    "    x = -46.6 + random.uniform(-0.05, 0.05)\n",
    "    y = -23.55 + random.uniform(-0.05, 0.05)\n",
    "    return x, y\n",
    "\n",
    "posicoes = []\n",
    "agora = datetime.now()\n",
    "for vid in veiculos[\"id_veiculo\"]:\n",
    "    x, y = random_coord()\n",
    "    for i in range(40):\n",
    "        x+=0.002\n",
    "        y+=0.002\n",
    "        agora = agora + timedelta(minutes = 1)\n",
    "        t = agora\n",
    "        posicoes.append([vid, x, y, t.isoformat()])\n",
    "\n",
    "posicoes_df = pd.DataFrame(posicoes, columns = [\"id_onibus\", \"x\", \"y\", \"t\"])"
   ]
  },
  {
   "cell_type": "markdown",
   "id": "d221ef33",
   "metadata": {},
   "source": [
    "Exibir e salvar"
   ]
  },
  {
   "cell_type": "code",
   "execution_count": 5,
   "id": "eed18415",
   "metadata": {},
   "outputs": [
    {
     "name": "stdout",
     "output_type": "stream",
     "text": [
      "\n",
      "Tabela de Consumo de Diesel:\n",
      "         tecnologia  sem_ar_l_km  sem_ar_kg_km  com_ar_l_km  com_ar_kg_km\n",
      "0        Miniônibus         0.30         0.252         0.35         0.294\n",
      "1        Midiônibus         0.40         0.336         0.47         0.395\n",
      "2            Básico         0.46         0.386         0.53         0.445\n",
      "3            Padron         0.55         0.462         0.63         0.529\n",
      "4  Articulado (18m)         0.71         0.596         0.80         0.672\n",
      "5  Articulado (23m)         0.75         0.630         0.85         0.714\n",
      "6      Biarticulado         0.80         0.672         0.90         0.756\n",
      "Base salva em data\\consumo_diesel.csv\n"
     ]
    }
   ],
   "source": [
    "print(\"\\nTabela de Consumo de Diesel:\")\n",
    "print(consumo_diesel)\n",
    "\n",
    "save_csv(consumo_diesel, \"consumo_diesel.csv\")"
   ]
  },
  {
   "cell_type": "code",
   "execution_count": 6,
   "id": "4485b56b",
   "metadata": {},
   "outputs": [
    {
     "name": "stdout",
     "output_type": "stream",
     "text": [
      "\n",
      "Simulação de Veículos:\n",
      "    id_veiculo tipo_veiculo            modelo  eletrico\n",
      "0         1001     eletrico        Miniônibus      True\n",
      "1         1002     eletrico            Padron      True\n",
      "2         1003       diesel        Midiônibus     False\n",
      "3         1004     eletrico      Biarticulado      True\n",
      "4         1005     eletrico        Miniônibus      True\n",
      "5         1006     eletrico      Biarticulado      True\n",
      "6         1007       diesel            Padron     False\n",
      "7         1008       diesel            Básico     False\n",
      "8         1009     eletrico            Padron      True\n",
      "9         1010     eletrico        Midiônibus      True\n",
      "10        1011       diesel            Padron     False\n",
      "11        1012       diesel        Miniônibus     False\n",
      "12        1013       diesel        Midiônibus     False\n",
      "13        1014       diesel            Padron     False\n",
      "14        1015     eletrico      Biarticulado      True\n",
      "15        1016       diesel            Padron     False\n",
      "16        1017     eletrico  Articulado (18m)      True\n",
      "17        1018     eletrico  Articulado (23m)      True\n",
      "18        1019       diesel            Padron     False\n",
      "19        1020     eletrico        Miniônibus      True\n",
      "Base salva em data\\veiculos.csv\n"
     ]
    }
   ],
   "source": [
    "print(\"\\nSimulação de Veículos:\")\n",
    "print(veiculos)\n",
    "\n",
    "save_csv(veiculos, \"veiculos.csv\")"
   ]
  },
  {
   "cell_type": "code",
   "execution_count": 7,
   "id": "b78df484",
   "metadata": {},
   "outputs": [
    {
     "name": "stdout",
     "output_type": "stream",
     "text": [
      "\n",
      "Posições de Ônibus:\n",
      "     id_onibus          x          y                           t\n",
      "0         1001 -46.619316 -23.520146  2025-08-14T12:40:38.032536\n",
      "1         1001 -46.617316 -23.518146  2025-08-14T12:41:38.032536\n",
      "2         1001 -46.615316 -23.516146  2025-08-14T12:42:38.032536\n",
      "3         1001 -46.613316 -23.514146  2025-08-14T12:43:38.032536\n",
      "4         1001 -46.611316 -23.512146  2025-08-14T12:44:38.032536\n",
      "..         ...        ...        ...                         ...\n",
      "795       1020 -46.490281 -23.458645  2025-08-15T01:55:38.032536\n",
      "796       1020 -46.488281 -23.456645  2025-08-15T01:56:38.032536\n",
      "797       1020 -46.486281 -23.454645  2025-08-15T01:57:38.032536\n",
      "798       1020 -46.484281 -23.452645  2025-08-15T01:58:38.032536\n",
      "799       1020 -46.482281 -23.450645  2025-08-15T01:59:38.032536\n",
      "\n",
      "[800 rows x 4 columns]\n",
      "Base salva em data\\posicoes_onibus.csv\n"
     ]
    }
   ],
   "source": [
    "print(\"\\nPosições de Ônibus:\")\n",
    "print(posicoes_df)\n",
    "\n",
    "save_csv(posicoes_df, \"posicoes_onibus.csv\")"
   ]
  }
 ],
 "metadata": {
  "kernelspec": {
   "display_name": "venv (3.12.0)",
   "language": "python",
   "name": "python3"
  },
  "language_info": {
   "codemirror_mode": {
    "name": "ipython",
    "version": 3
   },
   "file_extension": ".py",
   "mimetype": "text/x-python",
   "name": "python",
   "nbconvert_exporter": "python",
   "pygments_lexer": "ipython3",
   "version": "3.12.0"
  }
 },
 "nbformat": 4,
 "nbformat_minor": 5
}
