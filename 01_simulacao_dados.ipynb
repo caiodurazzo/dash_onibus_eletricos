{
 "cells": [
  {
   "cell_type": "markdown",
   "id": "b99ab01a",
   "metadata": {},
   "source": [
    "## Simulação dos dados"
   ]
  },
  {
   "cell_type": "markdown",
   "id": "127dc4bb",
   "metadata": {},
   "source": [
    "Nesse notebook são simulados os dados do projeto"
   ]
  },
  {
   "cell_type": "code",
   "execution_count": 1,
   "id": "c2a7d608",
   "metadata": {},
   "outputs": [],
   "source": [
    "import pandas as pd\n",
    "import numpy as np\n",
    "from datetime import datetime, timedelta\n",
    "import random\n",
    "from utils.save_csv import save_csv"
   ]
  },
  {
   "cell_type": "markdown",
   "id": "8474a9db",
   "metadata": {},
   "source": [
    "1. Tabela de consumo de diesel (l/km e kg/km)"
   ]
  },
  {
   "cell_type": "code",
   "execution_count": 2,
   "id": "8dbe1d68",
   "metadata": {},
   "outputs": [],
   "source": [
    "consumo_diesel = pd.DataFrame({\"tecnologia\": [\"Miniônibus\", \n",
    "                                              \"Midiônibus\", \n",
    "                                              \"Básico\", \n",
    "                                              \"Padron\",\n",
    "                                              \"Articulado (18m)\", \n",
    "                                              \"Articulado (23m)\", \n",
    "                                              \"Biarticulado\"],\n",
    "    \"sem_ar_l_km\": [0.300, 0.400, 0.460, 0.550, 0.710, 0.750, 0.800],\n",
    "    \"sem_ar_kg_km\": [0.252, 0.336, 0.386, 0.462, 0.596, 0.630, 0.672],\n",
    "    \"com_ar_l_km\": [0.350, 0.470, 0.530, 0.630, 0.800, 0.850, 0.900],\n",
    "    \"com_ar_kg_km\": [0.294, 0.395, 0.445, 0.529, 0.672, 0.714, 0.756]})"
   ]
  },
  {
   "cell_type": "markdown",
   "id": "ca4b67c5",
   "metadata": {},
   "source": [
    "2. Simulação de veículos"
   ]
  },
  {
   "cell_type": "code",
   "execution_count": 3,
   "id": "c96683f3",
   "metadata": {},
   "outputs": [],
   "source": [
    "np.random.seed(42)\n",
    "\n",
    "tipos = consumo_diesel[\"tecnologia\"].tolist()\n",
    "\n",
    "tipo_veiculo_list = [random.choice([\"diesel\", \"eletrico\"]) for _ in range(6)]\n",
    "\n",
    "veiculos = pd.DataFrame({\"id_veiculo\": np.arange(1001, 1007),\n",
    "                         \"tipo_veiculo\": tipo_veiculo_list,\n",
    "                         \"modelo\": [random.choice(tipos) for _ in range(6)],\n",
    "                         \"eletrico\": [t == \"eletrico\" for t in tipo_veiculo_list]})"
   ]
  },
  {
   "cell_type": "markdown",
   "id": "83aa429c",
   "metadata": {},
   "source": [
    "3. Simulação de posições"
   ]
  },
  {
   "cell_type": "code",
   "execution_count": 4,
   "id": "d7c9494d",
   "metadata": {},
   "outputs": [],
   "source": [
    "def random_coord():\n",
    "    x = -46.6 + random.uniform(-0.05, 0.05)\n",
    "    y = -23.55 + random.uniform(-0.05, 0.05)\n",
    "    return x, y\n",
    "\n",
    "posicoes = []\n",
    "\n",
    "for vid in veiculos[\"id_veiculo\"]:\n",
    "    for i in range(6):\n",
    "        x, y = random_coord()\n",
    "        t = datetime.now() - timedelta(minutes = random.randint(0, 60))\n",
    "        posicoes.append([vid, x, y, t.isoformat()])\n",
    "\n",
    "posicoes_df = pd.DataFrame(posicoes, columns = [\"id_onibus\", \"x\", \"y\", \"t\"])"
   ]
  },
  {
   "cell_type": "markdown",
   "id": "d221ef33",
   "metadata": {},
   "source": [
    "Exibir e salvar"
   ]
  },
  {
   "cell_type": "code",
   "execution_count": 5,
   "id": "eed18415",
   "metadata": {},
   "outputs": [
    {
     "name": "stdout",
     "output_type": "stream",
     "text": [
      "\n",
      "Tabela de Consumo de Diesel:\n",
      "         tecnologia  sem_ar_l_km  sem_ar_kg_km  com_ar_l_km  com_ar_kg_km\n",
      "0        Miniônibus         0.30         0.252         0.35         0.294\n",
      "1        Midiônibus         0.40         0.336         0.47         0.395\n",
      "2            Básico         0.46         0.386         0.53         0.445\n",
      "3            Padron         0.55         0.462         0.63         0.529\n",
      "4  Articulado (18m)         0.71         0.596         0.80         0.672\n",
      "5  Articulado (23m)         0.75         0.630         0.85         0.714\n",
      "6      Biarticulado         0.80         0.672         0.90         0.756\n",
      "Base salva em data\\consumo_diesel.csv\n"
     ]
    }
   ],
   "source": [
    "print(\"\\nTabela de Consumo de Diesel:\")\n",
    "print(consumo_diesel)\n",
    "\n",
    "save_csv(consumo_diesel, \"consumo_diesel.csv\")"
   ]
  },
  {
   "cell_type": "code",
   "execution_count": 6,
   "id": "4485b56b",
   "metadata": {},
   "outputs": [
    {
     "name": "stdout",
     "output_type": "stream",
     "text": [
      "\n",
      "Simulação de Veículos:\n",
      "   id_veiculo tipo_veiculo            modelo  eletrico\n",
      "0        1001     eletrico  Articulado (18m)      True\n",
      "1        1002     eletrico            Básico      True\n",
      "2        1003       diesel  Articulado (23m)     False\n",
      "3        1004     eletrico      Biarticulado      True\n",
      "4        1005     eletrico        Miniônibus      True\n",
      "5        1006       diesel        Midiônibus     False\n",
      "Base salva em data\\veiculos.csv\n"
     ]
    }
   ],
   "source": [
    "print(\"\\nSimulação de Veículos:\")\n",
    "print(veiculos)\n",
    "\n",
    "save_csv(veiculos, \"veiculos.csv\")"
   ]
  },
  {
   "cell_type": "code",
   "execution_count": 7,
   "id": "b78df484",
   "metadata": {},
   "outputs": [
    {
     "name": "stdout",
     "output_type": "stream",
     "text": [
      "\n",
      "Posições de Ônibus:\n",
      "    id_onibus          x          y                           t\n",
      "0        1001 -46.568293 -23.543785  2025-08-13T11:02:08.382494\n",
      "1        1001 -46.554470 -23.503668  2025-08-13T10:57:08.382494\n",
      "2        1001 -46.614056 -23.557951  2025-08-13T11:06:08.382494\n",
      "3        1001 -46.618694 -23.507817  2025-08-13T10:37:08.382494\n",
      "4        1001 -46.609186 -23.539731  2025-08-13T10:16:08.382494\n",
      "5        1001 -46.610337 -23.580880  2025-08-13T10:41:08.382494\n",
      "6        1002 -46.579360 -23.581454  2025-08-13T10:47:08.382494\n",
      "7        1002 -46.560151 -23.599120  2025-08-13T10:35:08.382494\n",
      "8        1002 -46.628370 -23.549705  2025-08-13T11:05:08.382494\n",
      "9        1002 -46.553106 -23.554067  2025-08-13T10:18:08.382494\n",
      "10       1002 -46.601030 -23.534025  2025-08-13T10:32:08.382494\n",
      "11       1002 -46.600009 -23.590674  2025-08-13T10:25:08.382494\n",
      "12       1003 -46.640108 -23.559317  2025-08-13T10:33:08.382494\n",
      "13       1003 -46.572989 -23.514455  2025-08-13T10:36:08.382494\n",
      "14       1003 -46.646577 -23.549115  2025-08-13T10:24:08.382494\n",
      "15       1003 -46.648363 -23.527290  2025-08-13T10:39:08.382494\n",
      "16       1003 -46.561178 -23.567354  2025-08-13T11:11:08.382494\n",
      "17       1003 -46.628715 -23.528663  2025-08-13T10:18:08.382494\n",
      "18       1004 -46.648447 -23.558630  2025-08-13T11:01:08.382494\n",
      "19       1004 -46.647304 -23.581048  2025-08-13T11:10:08.382494\n",
      "20       1004 -46.605657 -23.587861  2025-08-13T10:29:08.382494\n",
      "21       1004 -46.606805 -23.504060  2025-08-13T10:20:08.382494\n",
      "22       1004 -46.559136 -23.558135  2025-08-13T11:02:08.382494\n",
      "23       1004 -46.554988 -23.543635  2025-08-13T10:51:08.382494\n",
      "24       1005 -46.584933 -23.576693  2025-08-13T10:47:08.382494\n",
      "25       1005 -46.572249 -23.543496  2025-08-13T11:12:08.382494\n",
      "26       1005 -46.568826 -23.523089  2025-08-13T11:16:08.382494\n",
      "27       1005 -46.580066 -23.590008  2025-08-13T11:10:08.382494\n",
      "28       1005 -46.573506 -23.568665  2025-08-13T10:43:08.382494\n",
      "29       1005 -46.586476 -23.551675  2025-08-13T10:29:08.382494\n",
      "30       1006 -46.599714 -23.538667  2025-08-13T10:17:08.382494\n",
      "31       1006 -46.638855 -23.591054  2025-08-13T11:13:08.382494\n",
      "32       1006 -46.628610 -23.543434  2025-08-13T11:05:08.382494\n",
      "33       1006 -46.649351 -23.582642  2025-08-13T11:15:08.382494\n",
      "34       1006 -46.563066 -23.564669  2025-08-13T10:43:08.382494\n",
      "35       1006 -46.576534 -23.549706  2025-08-13T10:35:08.382494\n",
      "Base salva em data\\posicoes_onibus.csv\n"
     ]
    }
   ],
   "source": [
    "print(\"\\nPosições de Ônibus:\")\n",
    "print(posicoes_df)\n",
    "\n",
    "save_csv(posicoes_df, \"posicoes_onibus.csv\")"
   ]
  }
 ],
 "metadata": {
  "kernelspec": {
   "display_name": "venv",
   "language": "python",
   "name": "python3"
  },
  "language_info": {
   "codemirror_mode": {
    "name": "ipython",
    "version": 3
   },
   "file_extension": ".py",
   "mimetype": "text/x-python",
   "name": "python",
   "nbconvert_exporter": "python",
   "pygments_lexer": "ipython3",
   "version": "3.12.4"
  }
 },
 "nbformat": 4,
 "nbformat_minor": 5
}
