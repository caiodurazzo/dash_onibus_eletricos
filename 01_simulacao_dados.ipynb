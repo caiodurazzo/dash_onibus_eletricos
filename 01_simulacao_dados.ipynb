{
 "cells": [
  {
   "cell_type": "markdown",
   "id": "b99ab01a",
   "metadata": {},
   "source": [
    "## Simulação dos dados"
   ]
  },
  {
   "cell_type": "markdown",
   "id": "127dc4bb",
   "metadata": {},
   "source": [
    "Nesse notebook são simulados os dados do projeto"
   ]
  },
  {
   "cell_type": "code",
   "execution_count": 1,
   "id": "c2a7d608",
   "metadata": {},
   "outputs": [],
   "source": [
    "import pandas as pd\n",
    "import numpy as np\n",
    "from datetime import datetime, timedelta\n",
    "import random"
   ]
  },
  {
   "cell_type": "markdown",
   "id": "8474a9db",
   "metadata": {},
   "source": [
    "1. Tabela de consumo de diesel (l/km e kg/km)"
   ]
  },
  {
   "cell_type": "code",
   "execution_count": 2,
   "id": "8dbe1d68",
   "metadata": {},
   "outputs": [],
   "source": [
    "consumo_diesel = pd.DataFrame({\n",
    "    \"tecnologia\": [\n",
    "        \"Miniônibus\", \"Midiônibus\", \"Básico\", \"Padron\",\n",
    "        \"Articulado (18m)\", \"Articulado (23m)\", \"Biarticulado\"\n",
    "    ],\n",
    "    \"sem_ar_l_km\": [0.300, 0.400, 0.460, 0.550, 0.710, 0.750, 0.800],\n",
    "    \"sem_ar_kg_km\": [0.252, 0.336, 0.386, 0.462, 0.596, 0.630, 0.672],\n",
    "    \"com_ar_l_km\": [0.350, 0.470, 0.530, 0.630, 0.800, 0.850, 0.900],\n",
    "    \"com_ar_kg_km\": [0.294, 0.395, 0.445, 0.529, 0.672, 0.714, 0.756]\n",
    "})"
   ]
  },
  {
   "cell_type": "markdown",
   "id": "e2286b21",
   "metadata": {},
   "source": [
    "2. Fatores de emissão (kg poluente / kg diesel)"
   ]
  },
  {
   "cell_type": "code",
   "execution_count": 3,
   "id": "21ff8eba",
   "metadata": {},
   "outputs": [],
   "source": [
    "fatores_emissao = pd.DataFrame({\n",
    "    \"fase\": [\"CONAMA P5 (EURO III)\", \"CONAMA P7 (EURO V)\", \"CONAMA P8 (EURO VI)\"],\n",
    "    \"NOx\": [0.020982, 0.006575, 0.001112],\n",
    "    \"MP\": [0.000388, 0.000055, 0.000026]\n",
    "})"
   ]
  },
  {
   "cell_type": "markdown",
   "id": "ca4b67c5",
   "metadata": {},
   "source": [
    "3. Cadastro de veículos"
   ]
  },
  {
   "cell_type": "code",
   "execution_count": 4,
   "id": "c96683f3",
   "metadata": {},
   "outputs": [],
   "source": [
    "np.random.seed(42)\n",
    "tipos = consumo_diesel[\"tecnologia\"].tolist()\n",
    "fases = fatores_emissao[\"fase\"].tolist()\n",
    "\n",
    "tipo_veiculo_list = [random.choice([\"diesel\", \"eletrico\"]) for _ in range(20)]\n",
    "veiculos = pd.DataFrame({\n",
    "    \"id_veiculo\": np.arange(1001, 1021),  # 20 veículos\n",
    "    \"tipo_veiculo\": tipo_veiculo_list,\n",
    "    \"modelo\": [random.choice(tipos) for _ in range(20)],\n",
    "    \"fase_emissao\": [random.choice(fases) for _ in range(20)],\n",
    "    \"eletrico\": [t == \"eletrico\" for t in tipo_veiculo_list]\n",
    "})"
   ]
  },
  {
   "cell_type": "markdown",
   "id": "83aa429c",
   "metadata": {},
   "source": [
    "4. Simulação de posições (última hora)"
   ]
  },
  {
   "cell_type": "code",
   "execution_count": 5,
   "id": "d7c9494d",
   "metadata": {},
   "outputs": [],
   "source": [
    "def random_coord():\n",
    "    # Aproximadamente região de São Paulo\n",
    "    x = -46.6 + random.uniform(-0.05, 0.05)\n",
    "    y = -23.55 + random.uniform(-0.05, 0.05)\n",
    "    return x, y\n",
    "\n",
    "posicoes = []\n",
    "for vid in veiculos[\"id_veiculo\"]:\n",
    "    for i in range(10):  # 10 posições diferentes\n",
    "        x, y = random_coord()\n",
    "        t = datetime.now() - timedelta(minutes=random.randint(0, 60))\n",
    "        posicoes.append([vid, x, y, t.isoformat()])\n",
    "\n",
    "posicoes_df = pd.DataFrame(posicoes, columns=[\"id_onibus\", \"x\", \"y\", \"t\"])"
   ]
  },
  {
   "cell_type": "markdown",
   "id": "aeec2708",
   "metadata": {},
   "source": [
    "5. Fator de carbono por litro de diesel"
   ]
  },
  {
   "cell_type": "code",
   "execution_count": 6,
   "id": "a6f21713",
   "metadata": {},
   "outputs": [],
   "source": [
    "fator_carbono = 2.671  # kg C / litro diesel"
   ]
  },
  {
   "cell_type": "markdown",
   "id": "d221ef33",
   "metadata": {},
   "source": [
    "Exibir"
   ]
  },
  {
   "cell_type": "code",
   "execution_count": 7,
   "id": "47768dc3",
   "metadata": {},
   "outputs": [
    {
     "name": "stdout",
     "output_type": "stream",
     "text": [
      "\n",
      "Tabela de Consumo de Diesel:\n",
      "         tecnologia  sem_ar_l_km  sem_ar_kg_km  com_ar_l_km  com_ar_kg_km\n",
      "0        Miniônibus         0.30         0.252         0.35         0.294\n",
      "1        Midiônibus         0.40         0.336         0.47         0.395\n",
      "2            Básico         0.46         0.386         0.53         0.445\n",
      "3            Padron         0.55         0.462         0.63         0.529\n",
      "4  Articulado (18m)         0.71         0.596         0.80         0.672\n",
      "\n",
      "Fatores de Emissão:\n",
      "                   fase       NOx        MP\n",
      "0  CONAMA P5 (EURO III)  0.020982  0.000388\n",
      "1    CONAMA P7 (EURO V)  0.006575  0.000055\n",
      "2   CONAMA P8 (EURO VI)  0.001112  0.000026\n",
      "\n",
      "Cadastro de Veículos:\n",
      "   id_veiculo tipo_veiculo            modelo          fase_emissao  eletrico\n",
      "0        1001       diesel  Articulado (18m)   CONAMA P8 (EURO VI)     False\n",
      "1        1002       diesel        Midiônibus    CONAMA P7 (EURO V)     False\n",
      "2        1003     eletrico      Biarticulado  CONAMA P5 (EURO III)      True\n",
      "3        1004       diesel            Básico  CONAMA P5 (EURO III)     False\n",
      "4        1005     eletrico      Biarticulado    CONAMA P7 (EURO V)      True\n",
      "\n",
      "Posições de Ônibus:\n",
      "   id_onibus          x          y                           t\n",
      "0       1001 -46.593525 -23.564919  2025-08-12T10:44:29.958251\n",
      "1       1001 -46.610323 -23.589182  2025-08-12T11:12:29.958251\n",
      "2       1001 -46.643930 -23.533033  2025-08-12T10:59:29.958251\n",
      "3       1001 -46.613879 -23.589092  2025-08-12T10:48:29.958251\n",
      "4       1001 -46.571533 -23.529580  2025-08-12T11:00:29.958251\n"
     ]
    }
   ],
   "source": [
    "print(\"\\nTabela de Consumo de Diesel:\")\n",
    "print(consumo_diesel.head())\n",
    "\n",
    "print(\"\\nFatores de Emissão:\")\n",
    "print(fatores_emissao.head())\n",
    "\n",
    "print(\"\\nCadastro de Veículos:\")\n",
    "print(veiculos.head())\n",
    "\n",
    "print(\"\\nPosições de Ônibus:\")\n",
    "print(posicoes_df.head())"
   ]
  }
 ],
 "metadata": {
  "kernelspec": {
   "display_name": "venv (3.12.0)",
   "language": "python",
   "name": "python3"
  },
  "language_info": {
   "codemirror_mode": {
    "name": "ipython",
    "version": 3
   },
   "file_extension": ".py",
   "mimetype": "text/x-python",
   "name": "python",
   "nbconvert_exporter": "python",
   "pygments_lexer": "ipython3",
   "version": "3.12.0"
  }
 },
 "nbformat": 4,
 "nbformat_minor": 5
}
