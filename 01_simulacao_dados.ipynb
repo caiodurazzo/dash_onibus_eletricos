{
 "cells": [
  {
   "cell_type": "markdown",
   "id": "b99ab01a",
   "metadata": {},
   "source": [
    "## Simulação dos dados"
   ]
  },
  {
   "cell_type": "markdown",
   "id": "127dc4bb",
   "metadata": {},
   "source": [
    "Nesse notebook são simulados os dados do projeto"
   ]
  },
  {
   "cell_type": "code",
   "execution_count": 1,
   "id": "c2a7d608",
   "metadata": {},
   "outputs": [],
   "source": [
    "import pandas as pd\n",
    "import numpy as np\n",
    "from datetime import datetime, timedelta\n",
    "import random\n",
    "from utils.save_csv import save_csv"
   ]
  },
  {
   "cell_type": "markdown",
   "id": "8474a9db",
   "metadata": {},
   "source": [
    "1. Tabela de consumo de diesel (l/km e kg/km)"
   ]
  },
  {
   "cell_type": "code",
   "execution_count": 2,
   "id": "8dbe1d68",
   "metadata": {},
   "outputs": [],
   "source": [
    "consumo_diesel = pd.DataFrame({\"tecnologia\": [\"Miniônibus\", \n",
    "                                              \"Midiônibus\", \n",
    "                                              \"Básico\", \n",
    "                                              \"Padron\",\n",
    "                                              \"Articulado (18m)\", \n",
    "                                              \"Articulado (23m)\", \n",
    "                                              \"Biarticulado\"],\n",
    "    \"sem_ar_l_km\": [0.300, 0.400, 0.460, 0.550, 0.710, 0.750, 0.800],\n",
    "    \"sem_ar_kg_km\": [0.252, 0.336, 0.386, 0.462, 0.596, 0.630, 0.672],\n",
    "    \"com_ar_l_km\": [0.350, 0.470, 0.530, 0.630, 0.800, 0.850, 0.900],\n",
    "    \"com_ar_kg_km\": [0.294, 0.395, 0.445, 0.529, 0.672, 0.714, 0.756]})"
   ]
  },
  {
   "cell_type": "markdown",
   "id": "ca4b67c5",
   "metadata": {},
   "source": [
    "2. Simulação de veículos"
   ]
  },
  {
   "cell_type": "code",
   "execution_count": 3,
   "id": "c96683f3",
   "metadata": {},
   "outputs": [],
   "source": [
    "np.random.seed(42)\n",
    "\n",
    "tipos = consumo_diesel[\"tecnologia\"].tolist()\n",
    "\n",
    "tipo_veiculo_list = [random.choice([\"diesel\", \"eletrico\"]) for _ in range(6)]\n",
    "\n",
    "veiculos = pd.DataFrame({\"id_veiculo\": np.arange(1001, 1007),\n",
    "                         \"tipo_veiculo\": tipo_veiculo_list,\n",
    "                         \"modelo\": [random.choice(tipos) for _ in range(6)],\n",
    "                         \"eletrico\": [t == \"eletrico\" for t in tipo_veiculo_list]})"
   ]
  },
  {
   "cell_type": "markdown",
   "id": "83aa429c",
   "metadata": {},
   "source": [
    "3. Simulação de posições"
   ]
  },
  {
   "cell_type": "code",
   "execution_count": 4,
   "id": "d7c9494d",
   "metadata": {},
   "outputs": [],
   "source": [
    "def random_coord():\n",
    "    x = -46.6 + random.uniform(-0.05, 0.05)\n",
    "    y = -23.55 + random.uniform(-0.05, 0.05)\n",
    "    return x, y\n",
    "\n",
    "posicoes = []\n",
    "\n",
    "for vid in veiculos[\"id_veiculo\"]:\n",
    "    for i in range(6):\n",
    "        x, y = random_coord()\n",
    "        t = datetime.now() - timedelta(minutes = random.randint(0, 60))\n",
    "        posicoes.append([vid, x, y, t.isoformat()])\n",
    "\n",
    "posicoes_df = pd.DataFrame(posicoes, columns = [\"id_onibus\", \"x\", \"y\", \"t\"])"
   ]
  },
  {
   "cell_type": "markdown",
   "id": "d221ef33",
   "metadata": {},
   "source": [
    "Exibir e salvar"
   ]
  },
  {
   "cell_type": "code",
   "execution_count": 5,
   "id": "eed18415",
   "metadata": {},
   "outputs": [
    {
     "name": "stdout",
     "output_type": "stream",
     "text": [
      "\n",
      "Tabela de Consumo de Diesel:\n",
      "         tecnologia  sem_ar_l_km  sem_ar_kg_km  com_ar_l_km  com_ar_kg_km\n",
      "0        Miniônibus         0.30         0.252         0.35         0.294\n",
      "1        Midiônibus         0.40         0.336         0.47         0.395\n",
      "2            Básico         0.46         0.386         0.53         0.445\n",
      "3            Padron         0.55         0.462         0.63         0.529\n",
      "4  Articulado (18m)         0.71         0.596         0.80         0.672\n",
      "5  Articulado (23m)         0.75         0.630         0.85         0.714\n",
      "6      Biarticulado         0.80         0.672         0.90         0.756\n",
      "Base salva em data\\consumo_diesel.csv\n"
     ]
    }
   ],
   "source": [
    "print(\"\\nTabela de Consumo de Diesel:\")\n",
    "print(consumo_diesel)\n",
    "\n",
    "save_csv(consumo_diesel, \"consumo_diesel.csv\")"
   ]
  },
  {
   "cell_type": "code",
   "execution_count": 6,
   "id": "4485b56b",
   "metadata": {},
   "outputs": [
    {
     "name": "stdout",
     "output_type": "stream",
     "text": [
      "\n",
      "Simulação de Veículos:\n",
      "   id_veiculo tipo_veiculo        modelo  eletrico\n",
      "0        1001     eletrico    Miniônibus      True\n",
      "1        1002       diesel        Básico     False\n",
      "2        1003       diesel    Midiônibus     False\n",
      "3        1004       diesel        Padron     False\n",
      "4        1005       diesel        Padron     False\n",
      "5        1006     eletrico  Biarticulado      True\n",
      "Base salva em data\\veiculos.csv\n"
     ]
    }
   ],
   "source": [
    "print(\"\\nSimulação de Veículos:\")\n",
    "print(veiculos)\n",
    "\n",
    "save_csv(veiculos, \"veiculos.csv\")"
   ]
  },
  {
   "cell_type": "code",
   "execution_count": 7,
   "id": "b78df484",
   "metadata": {},
   "outputs": [
    {
     "name": "stdout",
     "output_type": "stream",
     "text": [
      "\n",
      "Posições de Ônibus:\n",
      "    id_onibus          x          y                           t\n",
      "0        1001 -46.594300 -23.539725  2025-08-13T11:43:36.770380\n",
      "1        1001 -46.574683 -23.543924  2025-08-13T11:09:36.770380\n",
      "2        1001 -46.571475 -23.519226  2025-08-13T11:48:36.770380\n",
      "3        1001 -46.562178 -23.593178  2025-08-13T11:03:36.770380\n",
      "4        1001 -46.614761 -23.549889  2025-08-13T11:29:36.770380\n",
      "5        1001 -46.560725 -23.576403  2025-08-13T11:43:36.770380\n",
      "6        1002 -46.567733 -23.561770  2025-08-13T11:02:36.770380\n",
      "7        1002 -46.623321 -23.558987  2025-08-13T11:19:36.770380\n",
      "8        1002 -46.625646 -23.548844  2025-08-13T11:32:36.770380\n",
      "9        1002 -46.573339 -23.559724  2025-08-13T11:02:36.770380\n",
      "10       1002 -46.586519 -23.523290  2025-08-13T11:05:36.770380\n",
      "11       1002 -46.604079 -23.559262  2025-08-13T10:55:36.770380\n",
      "12       1003 -46.583499 -23.583603  2025-08-13T11:39:36.770380\n",
      "13       1003 -46.560447 -23.547730  2025-08-13T11:44:36.770380\n",
      "14       1003 -46.600771 -23.522489  2025-08-13T11:11:36.770380\n",
      "15       1003 -46.638954 -23.535339  2025-08-13T11:35:36.770380\n",
      "16       1003 -46.578869 -23.501679  2025-08-13T10:53:36.770380\n",
      "17       1003 -46.599880 -23.535790  2025-08-13T11:36:36.770380\n",
      "18       1004 -46.616432 -23.530917  2025-08-13T10:52:36.770380\n",
      "19       1004 -46.636744 -23.579217  2025-08-13T10:49:36.770380\n",
      "20       1004 -46.615281 -23.542139  2025-08-13T11:16:36.770380\n",
      "21       1004 -46.558412 -23.592874  2025-08-13T11:07:36.770380\n",
      "22       1004 -46.638915 -23.594908  2025-08-13T11:13:36.770380\n",
      "23       1004 -46.558256 -23.512552  2025-08-13T11:18:36.770380\n",
      "24       1005 -46.593964 -23.520646  2025-08-13T11:19:36.770380\n",
      "25       1005 -46.566291 -23.584381  2025-08-13T11:46:36.770380\n",
      "26       1005 -46.585562 -23.500279  2025-08-13T11:00:36.770380\n",
      "27       1005 -46.607431 -23.594954  2025-08-13T11:30:36.770380\n",
      "28       1005 -46.613281 -23.534441  2025-08-13T11:40:36.770380\n",
      "29       1005 -46.571603 -23.532757  2025-08-13T11:30:36.770380\n",
      "30       1006 -46.587811 -23.526241  2025-08-13T11:47:36.770380\n",
      "31       1006 -46.597285 -23.572971  2025-08-13T11:49:36.770380\n",
      "32       1006 -46.606219 -23.581829  2025-08-13T10:59:36.770380\n",
      "33       1006 -46.550295 -23.506925  2025-08-13T11:10:36.770380\n",
      "34       1006 -46.589920 -23.578663  2025-08-13T10:59:36.770380\n",
      "35       1006 -46.603184 -23.553626  2025-08-13T11:47:36.770380\n",
      "Base salva em data\\posicoes_onibus.csv\n"
     ]
    }
   ],
   "source": [
    "print(\"\\nPosições de Ônibus:\")\n",
    "print(posicoes_df)\n",
    "\n",
    "save_csv(posicoes_df, \"posicoes_onibus.csv\")"
   ]
  }
 ],
 "metadata": {
  "kernelspec": {
   "display_name": "venv",
   "language": "python",
   "name": "python3"
  },
  "language_info": {
   "codemirror_mode": {
    "name": "ipython",
    "version": 3
   },
   "file_extension": ".py",
   "mimetype": "text/x-python",
   "name": "python",
   "nbconvert_exporter": "python",
   "pygments_lexer": "ipython3",
   "version": "3.12.4"
  }
 },
 "nbformat": 4,
 "nbformat_minor": 5
}
