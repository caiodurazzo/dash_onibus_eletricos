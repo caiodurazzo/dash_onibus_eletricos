{
 "cells": [
  {
   "cell_type": "markdown",
   "id": "5fb500a7",
   "metadata": {},
   "source": [
    "## Cálculo da emissão e distância percorrida "
   ]
  },
  {
   "cell_type": "markdown",
   "id": "0216af6c",
   "metadata": {},
   "source": [
    "Nesse notebook é calculada a distância percorrida entre os pontos e a emissão de poluentes"
   ]
  },
  {
   "cell_type": "code",
   "execution_count": 15,
   "id": "45a40774",
   "metadata": {},
   "outputs": [],
   "source": [
    "import pandas as pd\n",
    "import random\n",
    "from utils.save_csv import save_csv\n",
    "from utils.load_csv import load_csv\n",
    "from datetime import datetime"
   ]
  },
  {
   "cell_type": "code",
   "execution_count": 16,
   "id": "3b621803",
   "metadata": {},
   "outputs": [],
   "source": [
    "consumo_diesel = load_csv('consumo_diesel.csv')\n",
    "\n",
    "veiculos = load_csv('veiculos.csv')\n",
    "\n",
    "posicoes_df = load_csv('posicoes_onibus.csv')"
   ]
  },
  {
   "cell_type": "code",
   "execution_count": 17,
   "id": "47d06970",
   "metadata": {},
   "outputs": [],
   "source": [
    "consumo_diesel['emissa_no2_l_diesel'] = [random.uniform(0.02, 0.05) for _ in range(len(consumo_diesel))]\n",
    "consumo_diesel['emissa_co2_l_diesel'] = [random.uniform(0.05, 0.1) for _ in range(len(consumo_diesel))]"
   ]
  },
  {
   "cell_type": "code",
   "execution_count": 18,
   "id": "10859206",
   "metadata": {},
   "outputs": [],
   "source": [
    "def get_tipo_onibus(id_onibus):\n",
    "\n",
    "    onibus = veiculos[veiculos['id_veiculo']==id_onibus]\n",
    "\n",
    "    return onibus['modelo'].unique()[0]"
   ]
  },
  {
   "cell_type": "code",
   "execution_count": 19,
   "id": "a60b7e4d",
   "metadata": {},
   "outputs": [],
   "source": [
    "def get_fator_consumo(tipo_veiculo):\n",
    "\n",
    "    cosumo_modelo = consumo_diesel[consumo_diesel['tecnologia']==tipo_veiculo]\n",
    "\n",
    "    return cosumo_modelo['com_ar_l_km'].unique()[0]\n",
    "\n",
    "def get_consumo_co2(tipo_veiculo, km_rodados):\n",
    "\n",
    "    consumo_l = get_fator_consumo(tipo_veiculo)\n",
    "    consumo_fato = consumo_l * km_rodados\n",
    "\n",
    "    fator_emissao_modelo = consumo_diesel[consumo_diesel['tecnologia']==tipo_veiculo]\n",
    "    fator_emissao_co2_modelo = fator_emissao_modelo['emissa_co2_l_diesel'].unique()[0]\n",
    "    emissao_co2 = fator_emissao_co2_modelo * consumo_fato\n",
    "\n",
    "    return emissao_co2\n",
    "\n",
    "def get_consumo_no2(tipo_veiculo, km_rodados):\n",
    "\n",
    "    consumo_l = get_fator_consumo(tipo_veiculo)\n",
    "    consumo_fato = consumo_l * km_rodados\n",
    "\n",
    "    fator_emissao_modelo = consumo_diesel[consumo_diesel['tecnologia']==tipo_veiculo]\n",
    "    fator_emissao_no2_modelo = fator_emissao_modelo['emissa_no2_l_diesel'].unique()[0]\n",
    "    emissao_no2 = fator_emissao_no2_modelo * consumo_fato\n",
    "\n",
    "    return emissao_no2"
   ]
  },
  {
   "cell_type": "code",
   "execution_count": 20,
   "id": "d33fa835",
   "metadata": {},
   "outputs": [],
   "source": [
    "data_frame = []\n",
    "\n",
    "for id_onibus in posicoes_df['id_onibus'].unique():\n",
    "    df_onibus = posicoes_df[posicoes_df['id_onibus'] == id_onibus].reset_index(drop=True)\n",
    "    df_onibus.sort_values(by='t', inplace=True)\n",
    "    for i, row in df_onibus.iterrows():\n",
    " \n",
    "        if i < len(df_onibus)-1:\n",
    "            x_atual = row['x']\n",
    "            x_depois = df_onibus.loc[i+1, 'x']\n",
    "            y_atual = row['y']\n",
    "            y_depois = df_onibus.loc[i+1, 'y']\n",
    "            momento_inicial = row['t']\n",
    "            momento_final = df_onibus.loc[i+1, 't']\n",
    "            tipo_veiculo = get_tipo_onibus(row['id_onibus'])\n",
    "            litro_diesel = get_fator_consumo(tipo_veiculo)\n",
    "            \n",
    "            #mas tem que reprojetar para SIRGAS 2000\n",
    "            dist = (x_depois - x_atual)**2 + (y_depois - y_atual)**2\n",
    "            \n",
    "            dados = {\n",
    "                'id_onibus' : row['id_onibus'],\n",
    "                'distancia_percorrida' : dist,\n",
    "                'ponto_inicial' : [x_atual, y_atual],\n",
    "                'ponto_final' : [x_depois, y_depois],\n",
    "                'momento_inicial' : momento_inicial,\n",
    "                'momento_final' : momento_final,\n",
    "                'modelo' : tipo_veiculo,\n",
    "                'litro_diesel_km' : litro_diesel,\n",
    "                'emissao_no2' : get_consumo_no2(tipo_veiculo, dist),\n",
    "                'emissao_co2' : get_consumo_co2(tipo_veiculo, dist)\n",
    "            }\n",
    "\n",
    "            data_frame.append(dados)\n",
    "\n",
    "df_final = pd.DataFrame(data_frame)"
   ]
  },
  {
   "cell_type": "code",
   "execution_count": 21,
   "id": "dc83e896",
   "metadata": {},
   "outputs": [],
   "source": [
    "df_final = df_final.merge(\n",
    "    veiculos[['id_veiculo', 'eletrico']],\n",
    "    left_on='id_onibus',\n",
    "    right_on='id_veiculo',\n",
    "    how='left').drop(columns='id_veiculo')"
   ]
  },
  {
   "cell_type": "code",
   "execution_count": 22,
   "id": "fad4f8c2",
   "metadata": {},
   "outputs": [],
   "source": [
    "dados_trips_layer = []\n",
    "\n",
    "for onibus in df_final['id_onibus'].unique():\n",
    "\n",
    "    df_onibus = df_final[df_final['id_onibus'] == onibus].reset_index(drop=True)\n",
    "    coordinates = []\n",
    "    timestamps = []\n",
    "    emissao_total = 0\n",
    "    df_onibus.sort_values(by='momento_inicial', inplace=True)\n",
    "    for i, row in df_onibus.iterrows():\n",
    "        coordinates.append(row['ponto_inicial'])\n",
    "        stamp = datetime.fromisoformat(row['momento_inicial']).timestamp()\n",
    "        timestamps.append(stamp)\n",
    "        emissao_total += row['emissao_co2']\n",
    "\n",
    "    dados_trips_layer.append({\n",
    "        'id_onibus': onibus,\n",
    "        'emissao_co2': emissao_total,\n",
    "        'eletrico': row['eletrico'],\n",
    "        'coordinates' : coordinates,\n",
    "        'timestamps' : timestamps\n",
    "    })\n",
    "\n",
    "\n",
    "df_trips = pd.DataFrame(dados_trips_layer)"
   ]
  },
  {
   "cell_type": "code",
   "execution_count": 23,
   "id": "2e43c6fa",
   "metadata": {},
   "outputs": [],
   "source": [
    "def init_on_zero(timestamp_list)->list[float]:\n",
    "\n",
    "    inicial = timestamp_list[0]\n",
    "\n",
    "    new_timestamps = [ts - inicial for ts in timestamp_list]\n",
    "\n",
    "    return [int(ts) for ts in new_timestamps]\n",
    "\n",
    "df_trips['timestamps'] = df_trips['timestamps'].apply(init_on_zero)"
   ]
  },
  {
   "cell_type": "code",
   "execution_count": 24,
   "id": "d58368fd",
   "metadata": {},
   "outputs": [],
   "source": [
    "coord_t = str(df_trips.loc[0, 'coordinates'])"
   ]
  },
  {
   "cell_type": "code",
   "execution_count": 25,
   "id": "02964dc8",
   "metadata": {},
   "outputs": [
    {
     "data": {
      "text/plain": [
       "[[-46.56242941038247, -23.51361415867532],\n",
       " [-46.56042941038247, -23.51161415867532],\n",
       " [-46.55842941038247, -23.509614158675323],\n",
       " [-46.556429410382464, -23.507614158675324],\n",
       " [-46.55442941038246, -23.505614158675325],\n",
       " [-46.55242941038246, -23.50361415867533],\n",
       " [-46.550429410382456, -23.501614158675327],\n",
       " [-46.54842941038245, -23.499614158675328],\n",
       " [-46.54642941038245, -23.49761415867533],\n",
       " [-46.54442941038245, -23.49561415867533],\n",
       " [-46.54242941038245, -23.49361415867533],\n",
       " [-46.54042941038245, -23.491614158675333],\n",
       " [-46.53842941038244, -23.489614158675334],\n",
       " [-46.53642941038244, -23.48761415867533],\n",
       " [-46.53442941038244, -23.485614158675336],\n",
       " [-46.532429410382434, -23.483614158675337],\n",
       " [-46.53042941038243, -23.481614158675335],\n",
       " [-46.52842941038243, -23.47961415867534],\n",
       " [-46.52642941038243, -23.47761415867534],\n",
       " [-46.524429410382425, -23.47561415867534],\n",
       " [-46.52242941038242, -23.473614158675343],\n",
       " [-46.52042941038242, -23.471614158675344],\n",
       " [-46.51842941038242, -23.469614158675345],\n",
       " [-46.516429410382415, -23.467614158675342],\n",
       " [-46.51442941038241, -23.465614158675347],\n",
       " [-46.51242941038241, -23.463614158675348],\n",
       " [-46.51042941038241, -23.46161415867535],\n",
       " [-46.508429410382405, -23.45961415867535],\n",
       " [-46.5064294103824, -23.45761415867535],\n",
       " [-46.5044294103824, -23.455614158675356],\n",
       " [-46.5024294103824, -23.453614158675357],\n",
       " [-46.5004294103824, -23.451614158675355],\n",
       " [-46.49842941038239, -23.44961415867536],\n",
       " [-46.49642941038239, -23.44761415867536],\n",
       " [-46.49442941038239, -23.44561415867536],\n",
       " [-46.49242941038239, -23.44361415867536],\n",
       " [-46.49042941038238, -23.44161415867536],\n",
       " [-46.48842941038238, -23.43961415867536],\n",
       " [-46.48642941038238, -23.437614158675363]]"
      ]
     },
     "execution_count": 25,
     "metadata": {},
     "output_type": "execute_result"
    }
   ],
   "source": [
    "eval(coord_t)"
   ]
  },
  {
   "cell_type": "code",
   "execution_count": 26,
   "id": "e56a03e7",
   "metadata": {},
   "outputs": [
    {
     "data": {
      "text/plain": [
       "[0,\n",
       " 60,\n",
       " 120,\n",
       " 180,\n",
       " 240,\n",
       " 300,\n",
       " 360,\n",
       " 420,\n",
       " 480,\n",
       " 540,\n",
       " 600,\n",
       " 660,\n",
       " 720,\n",
       " 780,\n",
       " 840,\n",
       " 900,\n",
       " 960,\n",
       " 1020,\n",
       " 1080,\n",
       " 1140,\n",
       " 1200,\n",
       " 1260,\n",
       " 1320,\n",
       " 1380,\n",
       " 1440,\n",
       " 1500,\n",
       " 1560,\n",
       " 1620,\n",
       " 1680,\n",
       " 1740,\n",
       " 1800,\n",
       " 1860,\n",
       " 1920,\n",
       " 1980,\n",
       " 2040,\n",
       " 2100,\n",
       " 2160,\n",
       " 2220,\n",
       " 2280]"
      ]
     },
     "execution_count": 26,
     "metadata": {},
     "output_type": "execute_result"
    }
   ],
   "source": [
    "df_trips.loc[0, 'timestamps']"
   ]
  },
  {
   "cell_type": "code",
   "execution_count": 27,
   "id": "b7103d01",
   "metadata": {},
   "outputs": [],
   "source": [
    "df_trips = df_trips[['coordinates', 'timestamps']]"
   ]
  },
  {
   "cell_type": "code",
   "execution_count": 28,
   "id": "c7f41bdc",
   "metadata": {},
   "outputs": [
    {
     "name": "stdout",
     "output_type": "stream",
     "text": [
      "Base salva em data\\df_final.csv\n",
      "Base salva em data\\df_trips.csv\n"
     ]
    }
   ],
   "source": [
    "save_csv(df_final, 'df_final.csv')\n",
    "\n",
    "save_csv(df_trips, 'df_trips.csv')"
   ]
  }
 ],
 "metadata": {
  "kernelspec": {
   "display_name": "venv",
   "language": "python",
   "name": "python3"
  },
  "language_info": {
   "codemirror_mode": {
    "name": "ipython",
    "version": 3
   },
   "file_extension": ".py",
   "mimetype": "text/x-python",
   "name": "python",
   "nbconvert_exporter": "python",
   "pygments_lexer": "ipython3",
   "version": "3.12.4"
  }
 },
 "nbformat": 4,
 "nbformat_minor": 5
}
