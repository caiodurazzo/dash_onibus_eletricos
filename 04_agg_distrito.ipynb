{
 "cells": [
  {
   "cell_type": "markdown",
   "id": "7da6bb36",
   "metadata": {},
   "source": [
    "## Agregação por distrito"
   ]
  },
  {
   "cell_type": "markdown",
   "id": "deb18eff",
   "metadata": {},
   "source": [
    "Nesse notebook é feita a agregação dos dados por distritos do município"
   ]
  },
  {
   "cell_type": "code",
   "execution_count": 1,
   "id": "f1c37fa8",
   "metadata": {},
   "outputs": [],
   "source": [
    "import pandas as pd\n",
    "import geopandas as gpd\n",
    "from shapely.geometry import LineString\n",
    "from utils.load_csv import load_csv\n",
    "from utils.load_shp import load_shp"
   ]
  },
  {
   "cell_type": "code",
   "execution_count": 2,
   "id": "940a422d",
   "metadata": {},
   "outputs": [],
   "source": [
    "df_final = load_csv(\"df_final.csv\")\n",
    "\n",
    "distritos = load_shp(\"distritos.shp\")"
   ]
  },
  {
   "cell_type": "code",
   "execution_count": 3,
   "id": "2ba10034",
   "metadata": {},
   "outputs": [],
   "source": [
    "df_final[\"lon\"] = df_final[\"ponto_inicial\"].apply(lambda x: eval(x)[0])\n",
    "df_final[\"lat\"] = df_final[\"ponto_inicial\"].apply(lambda x: eval(x)[1])"
   ]
  },
  {
   "cell_type": "code",
   "execution_count": 4,
   "id": "6b039297",
   "metadata": {},
   "outputs": [],
   "source": [
    "gdf = gpd.GeoDataFrame(df_final, geometry=gpd.points_from_xy(df_final.lon, df_final.lat), crs=\"EPSG:4326\")"
   ]
  },
  {
   "cell_type": "code",
   "execution_count": 5,
   "id": "7b983335",
   "metadata": {},
   "outputs": [],
   "source": [
    "trajetos = gdf.groupby(\"id_onibus\")[\"geometry\"].apply(lambda x: LineString(x.tolist()))\n",
    "trajetos = gpd.GeoDataFrame(trajetos, geometry=\"geometry\", crs=\"EPSG:4326\").reset_index()"
   ]
  },
  {
   "cell_type": "code",
   "execution_count": 6,
   "id": "a5652962",
   "metadata": {},
   "outputs": [],
   "source": [
    "trajetos = trajetos.to_crs(distritos.crs)"
   ]
  },
  {
   "cell_type": "code",
   "execution_count": 7,
   "id": "a74b01b2",
   "metadata": {},
   "outputs": [],
   "source": [
    "trajetos_distritos = gpd.sjoin(trajetos, distritos, how=\"inner\", predicate=\"intersects\")"
   ]
  },
  {
   "cell_type": "code",
   "execution_count": 8,
   "id": "04f3eee4",
   "metadata": {},
   "outputs": [],
   "source": [
    "# ônibus por distrito\n",
    "onibus_por_distrito = trajetos_distritos.groupby(\"nm_distrit\")[\"id_onibus\"].nunique().reset_index()\n",
    "\n",
    "# distância percorrida por distrito\n",
    "distancia_por_onibus = df_final.groupby(\"id_onibus\")[\"distancia_percorrida\"].sum().reset_index()\n",
    "trajetos_distritos = trajetos_distritos.merge(distancia_por_onibus, on=\"id_onibus\")\n",
    "dist_por_distrito = trajetos_distritos.groupby(\"nm_distrit\")[\"distancia_percorrida\"].sum().reset_index()"
   ]
  }
 ],
 "metadata": {
  "kernelspec": {
   "display_name": "venv (3.12.0)",
   "language": "python",
   "name": "python3"
  },
  "language_info": {
   "codemirror_mode": {
    "name": "ipython",
    "version": 3
   },
   "file_extension": ".py",
   "mimetype": "text/x-python",
   "name": "python",
   "nbconvert_exporter": "python",
   "pygments_lexer": "ipython3",
   "version": "3.12.0"
  }
 },
 "nbformat": 4,
 "nbformat_minor": 5
}
